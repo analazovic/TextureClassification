{
 "cells": [
  {
   "cell_type": "code",
   "execution_count": 1,
   "metadata": {},
   "outputs": [],
   "source": [
    "import numpy as np\n",
    "import scipy.io as sio\n",
    "from sklearn import svm\n",
    "import torch\n",
    "from sklearn.model_selection import train_test_split"
   ]
  },
  {
   "cell_type": "code",
   "execution_count": 2,
   "metadata": {},
   "outputs": [],
   "source": [
    "# Function for normalizing data\n",
    "def normalize_data(input_data):\n",
    "    mu = input_data.mean(axis=0)\n",
    "    std = input_data.std(axis=0)\n",
    "    return (input_data-mu)/std, mu, std"
   ]
  },
  {
   "cell_type": "code",
   "execution_count": 3,
   "metadata": {},
   "outputs": [],
   "source": [
    "# Loading features\n",
    "train_data = np.load('Train_data.npz')\n",
    "test_data = np.load('Test_data.npz')\n",
    "\n",
    "x_train_all_features = train_data['x_train_all_features']\n",
    "y_train = train_data['y_train']\n",
    "\n",
    "x_test_all_features = test_data['x_test_all_features']\n",
    "y_test_all = test_data['y_test']"
   ]
  },
  {
   "cell_type": "markdown",
   "metadata": {},
   "source": [
    "# Dimensionality reduction using PCA algorithm"
   ]
  },
  {
   "cell_type": "code",
   "execution_count": 4,
   "metadata": {},
   "outputs": [],
   "source": [
    "# Number of features after PCA algorithm\n",
    "num_features = 15\n",
    "\n",
    "# PCA on Train data\n",
    "(U, S, V) = torch.pca_lowrank(torch.tensor(x_train_all_features), q = num_features)\n",
    "\n",
    "new_data_train = torch.matmul(torch.tensor(x_train_all_features), V[:, :num_features])\n",
    "x_train_non_normalized = new_data_train.numpy()\n",
    "\n",
    "# PCA on Test data\n",
    "new_data_test = torch.matmul(torch.tensor(x_test_all_features), V[:, :num_features])\n",
    "x_test_non_normalized = new_data_test.numpy()"
   ]
  },
  {
   "cell_type": "markdown",
   "metadata": {},
   "source": [
    "# SVM"
   ]
  },
  {
   "cell_type": "code",
   "execution_count": 5,
   "metadata": {},
   "outputs": [],
   "source": [
    "# Normalizing features\n",
    "x_train_svc, mu, std = normalize_data(x_train_non_normalized)\n",
    "x_test_svc = (x_test_non_normalized - mu) / std"
   ]
  },
  {
   "cell_type": "code",
   "execution_count": 6,
   "metadata": {},
   "outputs": [],
   "source": [
    "# Split test set into validation and test for the purpose of hyperparameter tuning\n",
    "x_val, x_test, y_val, y_test = train_test_split( x_test_svc, y_test_all, test_size = 0.5, random_state = 15 )"
   ]
  },
  {
   "cell_type": "markdown",
   "metadata": {},
   "source": [
    "Cross-validation"
   ]
  },
  {
   "cell_type": "code",
   "execution_count": 7,
   "metadata": {},
   "outputs": [
    {
     "name": "stdout",
     "output_type": "stream",
     "text": [
      "Best value for hyperparameter C: 0.10476157527896651\n"
     ]
    },
    {
     "data": {
      "text/plain": [
       "SVC(C=0.10476157527896651, kernel='linear')"
      ]
     },
     "execution_count": 7,
     "metadata": {},
     "output_type": "execute_result"
    }
   ],
   "source": [
    "C_all = np.logspace(-3, 2, num=100)\n",
    "acc_all = np.zeros_like(C_all)\n",
    "\n",
    "# Cross-validation for hyperparameter C\n",
    "for i in range(len(C_all)):\n",
    "\n",
    "    # Create an svm Classifier\n",
    "    clf = svm.SVC( C = C_all[i], kernel = 'linear')\n",
    "\n",
    "    # Train the model using the training sets\n",
    "    clf.fit( x_train_svc, y_train.ravel() )\n",
    "    \n",
    "    # Predict the response for validaiton data\n",
    "    y_pred_val = clf.predict(x_val)\n",
    "\n",
    "    same_pred = np.sum(y_pred_val == y_val.squeeze())\n",
    "    acc = same_pred / len(y_pred_val)\n",
    "    acc_all[i] = acc\n",
    "\n",
    "pos = np.argmax(acc_all)\n",
    "best_C = C_all[pos]\n",
    "print( 'Best value for hyperparameter C: ' + str(best_C) )\n",
    "\n",
    "# SVM classifier for best value of the hyperparameter C\n",
    "clf = svm.SVC( C = best_C, kernel = 'linear')\n",
    "clf.fit( x_train_svc, y_train.ravel() )"
   ]
  },
  {
   "cell_type": "code",
   "execution_count": 8,
   "metadata": {},
   "outputs": [
    {
     "name": "stdout",
     "output_type": "stream",
     "text": [
      "Correct: 477; Incorrect: 3\n",
      "Accuracy: 99.375%\n"
     ]
    }
   ],
   "source": [
    "# Results on train dataset\n",
    "y_pred_train = clf.predict(x_train_svc)\n",
    "\n",
    "same_pred_train = np.sum(y_pred_train == y_train.squeeze())\n",
    "acc_train = same_pred_train / len(y_pred_train)\n",
    "\n",
    "print('Correct: ' + str( same_pred_train ) + '; Incorrect: ' + str( len(y_pred_train) - same_pred_train ) )\n",
    "print('Accuracy: ' + str(acc_train * 100) + '%')"
   ]
  },
  {
   "cell_type": "code",
   "execution_count": 9,
   "metadata": {},
   "outputs": [
    {
     "name": "stdout",
     "output_type": "stream",
     "text": [
      "Correct: 1406; Incorrect: 514\n",
      "Accuracy: 73.22916666666667%\n"
     ]
    }
   ],
   "source": [
    "# Results on validation dataset\n",
    "y_pred_val = clf.predict(x_val)\n",
    "\n",
    "same_pred_val = np.sum(y_pred_val == y_val.squeeze())\n",
    "acc_val = same_pred_val / len(y_pred_val)\n",
    "\n",
    "print('Correct: ' + str( same_pred_val ) + '; Incorrect: ' + str( len(y_pred_val) - same_pred_val ) )\n",
    "print('Accuracy: ' + str(acc_val * 100) + '%')"
   ]
  },
  {
   "cell_type": "code",
   "execution_count": 10,
   "metadata": {},
   "outputs": [
    {
     "name": "stdout",
     "output_type": "stream",
     "text": [
      "Correct: 1373; Incorrect: 547\n",
      "Accuracy: 71.51041666666667%\n"
     ]
    }
   ],
   "source": [
    "# Results on test dataset\n",
    "y_pred_test = clf.predict(x_test)\n",
    "\n",
    "same_pred_test = np.sum(y_pred_test == y_test.squeeze())\n",
    "acc_test = same_pred_test / len(y_pred_test)\n",
    "\n",
    "print('Correct: ' + str( same_pred_test ) + '; Incorrect: ' + str( len(y_pred_test) - same_pred_test ) )\n",
    "print('Accuracy: ' + str(acc_test * 100) + '%')"
   ]
  }
 ],
 "metadata": {
  "kernelspec": {
   "display_name": "Python 3",
   "language": "python",
   "name": "python3"
  },
  "language_info": {
   "codemirror_mode": {
    "name": "ipython",
    "version": 3
   },
   "file_extension": ".py",
   "mimetype": "text/x-python",
   "name": "python",
   "nbconvert_exporter": "python",
   "pygments_lexer": "ipython3",
   "version": "3.8.5"
  }
 },
 "nbformat": 4,
 "nbformat_minor": 4
}

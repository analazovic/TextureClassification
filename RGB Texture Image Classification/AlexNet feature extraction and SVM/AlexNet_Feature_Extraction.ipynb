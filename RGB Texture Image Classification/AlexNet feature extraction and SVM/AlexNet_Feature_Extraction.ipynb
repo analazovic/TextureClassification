{
 "cells": [
  {
   "cell_type": "code",
   "execution_count": 1,
   "metadata": {},
   "outputs": [],
   "source": [
    "# Import libs\n",
    "import torch\n",
    "import torch.nn as nn\n",
    "import torchvision\n",
    "import torchvision.models as models\n",
    "import torchvision.transforms as transforms\n",
    "import numpy as np\n",
    "from PIL import Image"
   ]
  },
  {
   "cell_type": "code",
   "execution_count": 2,
   "metadata": {},
   "outputs": [],
   "source": [
    "# Load pretrained Alexnet model\n",
    "alexnet = models.alexnet(pretrained = True)"
   ]
  },
  {
   "cell_type": "code",
   "execution_count": 3,
   "metadata": {},
   "outputs": [],
   "source": [
    "# Define image transformations\n",
    "transform = transforms.Compose([\n",
    "    transforms.Resize(224),\n",
    "    transforms.ToTensor(),\n",
    "    transforms.Normalize(mean = [0.485, 0.456, 0.406], std = [0.229, 0.224, 0.225])]\n",
    ")\n",
    "img_to_tensor = transforms.ToTensor()"
   ]
  },
  {
   "cell_type": "code",
   "execution_count": 4,
   "metadata": {},
   "outputs": [],
   "source": [
    "# Loading train data\n",
    "train_image_names = []\n",
    "y_train = []\n",
    "with open('../Outex-TC-00010-c/000/train.txt', 'r') as f:\n",
    "    next(f)\n",
    "    for row in f:\n",
    "        pom = row.split()\n",
    "        train_image_names.append(pom[0])\n",
    "        y_train.append(int(pom[1] ))\n",
    "        \n",
    "num_train = len(y_train)\n",
    "\n",
    "# Loading test data\n",
    "test_image_names = []\n",
    "y_test = []\n",
    "with open('../Outex-TC-00010-c/000/test.txt', 'r') as f:\n",
    "    next(f)\n",
    "    for row in f:\n",
    "        pom = row.split()\n",
    "        test_image_names.append(pom[0])\n",
    "        y_test.append(int(pom[1] )) \n",
    "        \n",
    "num_test = len(y_test)"
   ]
  },
  {
   "cell_type": "code",
   "execution_count": 5,
   "metadata": {
    "scrolled": true
   },
   "outputs": [
    {
     "data": {
      "text/plain": [
       "AlexNet(\n",
       "  (features): Sequential(\n",
       "    (0): Conv2d(3, 64, kernel_size=(11, 11), stride=(4, 4), padding=(2, 2))\n",
       "    (1): ReLU(inplace=True)\n",
       "    (2): MaxPool2d(kernel_size=3, stride=2, padding=0, dilation=1, ceil_mode=False)\n",
       "    (3): Conv2d(64, 192, kernel_size=(5, 5), stride=(1, 1), padding=(2, 2))\n",
       "    (4): ReLU(inplace=True)\n",
       "    (5): MaxPool2d(kernel_size=3, stride=2, padding=0, dilation=1, ceil_mode=False)\n",
       "    (6): Conv2d(192, 384, kernel_size=(3, 3), stride=(1, 1), padding=(1, 1))\n",
       "    (7): ReLU(inplace=True)\n",
       "    (8): Conv2d(384, 256, kernel_size=(3, 3), stride=(1, 1), padding=(1, 1))\n",
       "    (9): ReLU(inplace=True)\n",
       "    (10): Conv2d(256, 256, kernel_size=(3, 3), stride=(1, 1), padding=(1, 1))\n",
       "    (11): ReLU(inplace=True)\n",
       "    (12): MaxPool2d(kernel_size=3, stride=2, padding=0, dilation=1, ceil_mode=False)\n",
       "  )\n",
       "  (avgpool): AdaptiveAvgPool2d(output_size=(6, 6))\n",
       "  (classifier): Sequential(\n",
       "    (0): Dropout(p=0.5, inplace=False)\n",
       "    (1): Linear(in_features=9216, out_features=4096, bias=True)\n",
       "    (2): ReLU(inplace=True)\n",
       "    (3): Dropout(p=0.5, inplace=False)\n",
       "    (4): Linear(in_features=4096, out_features=4096, bias=True)\n",
       "    (5): ReLU(inplace=True)\n",
       "    (6): Linear(in_features=4096, out_features=1000, bias=True)\n",
       "  )\n",
       ")"
      ]
     },
     "execution_count": 5,
     "metadata": {},
     "output_type": "execute_result"
    }
   ],
   "source": [
    "alexnet.eval()"
   ]
  },
  {
   "cell_type": "code",
   "execution_count": 6,
   "metadata": {},
   "outputs": [],
   "source": [
    "# Defining an identity mapping to be used for the final output layer of the Alexnet\n",
    "class Identity(nn.Module):\n",
    "    def __init__(self):\n",
    "        super().__init__()\n",
    "    \n",
    "    def forward(self, x):\n",
    "        return x"
   ]
  },
  {
   "cell_type": "code",
   "execution_count": 7,
   "metadata": {},
   "outputs": [],
   "source": [
    "# Changing the output of the Alexnet model to output a 4096 dimensional feature vector\n",
    "alexnet.classifier[6] = Identity()"
   ]
  },
  {
   "cell_type": "code",
   "execution_count": 8,
   "metadata": {},
   "outputs": [
    {
     "name": "stdout",
     "output_type": "stream",
     "text": [
      "0% 10% 20% 30% 40% 50% 60% 70% 80% 90% 100%\n"
     ]
    }
   ],
   "source": [
    "# Obtaining features for train images\n",
    "all_train_image_features = torch.zeros((len(y_train), 4096))\n",
    "for i in range(num_train):\n",
    "    if i % 48 == 0:\n",
    "        print(str(round(i/num_train*100))+'%', end = ' ')\n",
    "    img = Image.open('../Outex-TC-00010-c/images/' + train_image_names[i])\n",
    "    img_tensor = img_to_tensor(img).unsqueeze(0)\n",
    "    features = alexnet(img_tensor)\n",
    "    all_train_image_features[i, :] = alexnet(img_tensor)   \n",
    "print('100%')"
   ]
  },
  {
   "cell_type": "code",
   "execution_count": 9,
   "metadata": {},
   "outputs": [
    {
     "name": "stdout",
     "output_type": "stream",
     "text": [
      "0% 5% 10% 15% 20% 25% 30% 35% 40% 45% 50% 55% 60% 65% 70% 75% 80% 85% 90% 95% 100%\n"
     ]
    }
   ],
   "source": [
    "# Obtaining features for test images\n",
    "all_test_image_features = torch.zeros((len(y_test), 4096))\n",
    "for i in range(num_test):\n",
    "    if i % 192 == 0:\n",
    "        print(str(round(i/num_test*100))+'%', end = ' ')\n",
    "    img = Image.open('../Outex-TC-00010-c/images/' + test_image_names[i])\n",
    "    img_tensor = img_to_tensor(img).unsqueeze(0)\n",
    "    features = alexnet(img_tensor)\n",
    "    all_test_image_features[i, :] = alexnet(img_tensor)\n",
    "print('100%')"
   ]
  },
  {
   "cell_type": "code",
   "execution_count": 10,
   "metadata": {},
   "outputs": [],
   "source": [
    "# Save train data to Train_data.npz\n",
    "np.savez('Train_data.npz', x_train_all_features = all_train_image_features.detach().numpy(), y_train = y_train )\n",
    "\n",
    "# Save test data to Test_data.npz\n",
    "np.savez('Test_data.npz',  x_test_all_features = all_test_image_features.detach().numpy(), y_test = y_test )"
   ]
  }
 ],
 "metadata": {
  "kernelspec": {
   "display_name": "Python 3",
   "language": "python",
   "name": "python3"
  },
  "language_info": {
   "codemirror_mode": {
    "name": "ipython",
    "version": 3
   },
   "file_extension": ".py",
   "mimetype": "text/x-python",
   "name": "python",
   "nbconvert_exporter": "python",
   "pygments_lexer": "ipython3",
   "version": "3.8.5"
  }
 },
 "nbformat": 4,
 "nbformat_minor": 4
}

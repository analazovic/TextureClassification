{
 "cells": [
  {
   "cell_type": "code",
   "execution_count": 1,
   "metadata": {},
   "outputs": [],
   "source": [
    "import torch\n",
    "import numpy as np\n",
    "import scipy.io as sio\n",
    "from sklearn import svm\n",
    "from sklearn.model_selection import train_test_split"
   ]
  },
  {
   "cell_type": "code",
   "execution_count": 2,
   "metadata": {},
   "outputs": [],
   "source": [
    "# Function for normalizing data\n",
    "def normalize_data(input_data):\n",
    "    mu = input_data.mean(axis=0)\n",
    "    std = input_data.std(axis=0)\n",
    "    return (input_data-mu)/std, mu, std"
   ]
  },
  {
   "cell_type": "markdown",
   "metadata": {},
   "source": [
    "# Wavelet features"
   ]
  },
  {
   "cell_type": "code",
   "execution_count": 3,
   "metadata": {},
   "outputs": [],
   "source": [
    "data1 = sio.loadmat('Wavelet_Features.mat')\n",
    "x_train1, mu1, std1 = normalize_data(data1['x_train'])\n",
    "y_train1 = data1['y_train']\n",
    "x_test_all1 = (data1['x_test'] - mu1 ) / std1\n",
    "y_test_all1 = data1['y_test']\n",
    "\n",
    "# Split test set into validation and test for the purpose of hyperparameter tuning\n",
    "x_val1, x_test1, y_val1, y_test1 = train_test_split( x_test_all1, y_test_all1, test_size = 0.5, random_state = 15 )"
   ]
  },
  {
   "cell_type": "markdown",
   "metadata": {},
   "source": [
    "Cross-validation"
   ]
  },
  {
   "cell_type": "code",
   "execution_count": 4,
   "metadata": {},
   "outputs": [
    {
     "name": "stdout",
     "output_type": "stream",
     "text": [
      "Best value for hyperparameter C: 0.9545484566618337\n"
     ]
    },
    {
     "data": {
      "text/plain": [
       "SVC(C=0.9545484566618337, kernel='linear')"
      ]
     },
     "execution_count": 4,
     "metadata": {},
     "output_type": "execute_result"
    }
   ],
   "source": [
    "C_all = np.logspace(-3, 2, num=100)\n",
    "acc_all = np.zeros_like(C_all)\n",
    "\n",
    "# Cross-validation for hyperparameter C\n",
    "for i in range(len(C_all)):\n",
    "\n",
    "    # Create an svm Classifier\n",
    "    clf = svm.SVC( C = C_all[i], kernel = 'linear')\n",
    "\n",
    "    # Train the model using the training sets\n",
    "    clf.fit( x_train1, y_train1.ravel() )\n",
    "    \n",
    "    # Predict the response for validaiton data\n",
    "    y_pred_val = clf.predict(x_val1)\n",
    "\n",
    "    same_pred = np.sum(y_pred_val == y_val1.squeeze())\n",
    "    acc = same_pred / len(y_pred_val)\n",
    "    acc_all[i] = acc\n",
    "\n",
    "pos = np.argmax(acc_all)\n",
    "best_C1 = C_all[pos]\n",
    "print( 'Best value for hyperparameter C: ' + str(best_C1) )\n",
    "\n",
    "# SVM classifier for best value of the hyperparameter C\n",
    "clf1 = svm.SVC( C = best_C1, kernel = 'linear')\n",
    "clf1.fit( x_train1, y_train1.ravel() )"
   ]
  },
  {
   "cell_type": "markdown",
   "metadata": {},
   "source": [
    "Test results"
   ]
  },
  {
   "cell_type": "code",
   "execution_count": 5,
   "metadata": {},
   "outputs": [
    {
     "name": "stdout",
     "output_type": "stream",
     "text": [
      "Correct: 1171; Incorrect: 749\n",
      "Accuracy: 60.98958333333333%\n"
     ]
    }
   ],
   "source": [
    "#Predict the response for test dataset\n",
    "y_pred_test1 = clf1.predict(x_test1)\n",
    "\n",
    "same_pred_test1 = np.sum(y_pred_test1 == y_test1.squeeze())\n",
    "acc_test1 = same_pred_test1 / len(y_pred_test1)\n",
    "\n",
    "print('Correct: ' + str( same_pred_test1 ) + '; Incorrect: ' + str( len(y_pred_test1) - same_pred_test1 ) )\n",
    "print('Accuracy: ' + str(acc_test1 * 100) + '%')"
   ]
  },
  {
   "cell_type": "markdown",
   "metadata": {},
   "source": [
    "# GLCM features"
   ]
  },
  {
   "cell_type": "code",
   "execution_count": 6,
   "metadata": {},
   "outputs": [],
   "source": [
    "data2 = sio.loadmat('GLCM_Features.mat')\n",
    "x_train2, mu2, std2 = normalize_data(data2['x_train'])\n",
    "y_train2 = data2['y_train']\n",
    "x_test_all2 = (data2['x_test'] - mu2 ) / std2\n",
    "y_test_all2 = data2['y_test']\n",
    "\n",
    "# Split test set into validation and test for the purpose of hyperparameter tuning\n",
    "x_val2, x_test2, y_val2, y_test2 = train_test_split( x_test_all2, y_test_all2, test_size = 0.5, random_state = 15 )"
   ]
  },
  {
   "cell_type": "markdown",
   "metadata": {},
   "source": [
    "Cross-validation"
   ]
  },
  {
   "cell_type": "code",
   "execution_count": 7,
   "metadata": {},
   "outputs": [
    {
     "name": "stdout",
     "output_type": "stream",
     "text": [
      "Best value for hyperparameter C: 89.02150854450393\n"
     ]
    },
    {
     "data": {
      "text/plain": [
       "SVC(C=89.02150854450393, kernel='linear')"
      ]
     },
     "execution_count": 7,
     "metadata": {},
     "output_type": "execute_result"
    }
   ],
   "source": [
    "C_all = np.logspace(-3, 2, num=100)\n",
    "acc_all = np.zeros_like(C_all)\n",
    "\n",
    "# Cross-validation for hyperparameter C\n",
    "for i in range(len(C_all)):\n",
    "\n",
    "    # Create an svm Classifier\n",
    "    clf = svm.SVC( C = C_all[i], kernel = 'linear')\n",
    "\n",
    "    # Train the model using the training sets\n",
    "    clf.fit( x_train2, y_train2.ravel() )\n",
    "    \n",
    "    # Predict the response for validaiton data\n",
    "    y_pred_val = clf.predict(x_val2)\n",
    "\n",
    "    same_pred = np.sum(y_pred_val == y_val2.squeeze())\n",
    "    acc = same_pred / len(y_pred_val)\n",
    "    acc_all[i] = acc\n",
    "\n",
    "pos = np.argmax(acc_all)\n",
    "best_C2 = C_all[pos]\n",
    "print( 'Best value for hyperparameter C: ' + str(best_C2) )\n",
    "\n",
    "# SVM classifier for best value of the hyperparameter C\n",
    "clf2 = svm.SVC( C = best_C2, kernel = 'linear')\n",
    "clf2.fit( x_train2, y_train2.ravel() )"
   ]
  },
  {
   "cell_type": "markdown",
   "metadata": {},
   "source": [
    "Test results"
   ]
  },
  {
   "cell_type": "code",
   "execution_count": 8,
   "metadata": {},
   "outputs": [
    {
     "name": "stdout",
     "output_type": "stream",
     "text": [
      "Correct: 1685; Incorrect: 235\n",
      "Accuracy: 87.76041666666666%\n"
     ]
    }
   ],
   "source": [
    "#Predict the response for test dataset\n",
    "y_pred_test2 = clf2.predict(x_test2)\n",
    "\n",
    "same_pred_test2 = np.sum(y_pred_test2 == y_test2.squeeze())\n",
    "acc_test2 = same_pred_test2 / len(y_pred_test2)\n",
    "\n",
    "print('Correct: ' + str( same_pred_test2 ) + '; Incorrect: ' + str( len(y_pred_test2) - same_pred_test2 ) )\n",
    "print('Accuracy: ' + str(acc_test2 * 100) + '%')"
   ]
  }
 ],
 "metadata": {
  "kernelspec": {
   "display_name": "Python 3",
   "language": "python",
   "name": "python3"
  },
  "language_info": {
   "codemirror_mode": {
    "name": "ipython",
    "version": 3
   },
   "file_extension": ".py",
   "mimetype": "text/x-python",
   "name": "python",
   "nbconvert_exporter": "python",
   "pygments_lexer": "ipython3",
   "version": "3.8.5"
  }
 },
 "nbformat": 4,
 "nbformat_minor": 4
}
